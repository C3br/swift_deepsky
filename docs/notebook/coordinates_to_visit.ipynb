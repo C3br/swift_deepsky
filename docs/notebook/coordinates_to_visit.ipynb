{
 "cells": [
  {
   "cell_type": "markdown",
   "metadata": {},
   "source": [
    "# List of coordinates to visit\n",
    "\n",
    "We're going to generate a list of points in the sky to visit.\n",
    "\n",
    "The idea is to cover an area of the sky with multiple circular pointings.\n",
    "A list of `RA`, `Dec` and a `radius` values covering such (rectangular) area\n",
    "is what we need at first.\n",
    "\n",
    "There are different ways to approach the task, where we have to consider the\n",
    "amount of overlapping area and the coordinates system.\n",
    "Our cost function is processing time; we want to cover the region with the smallest \n",
    "list of pointings.\n",
    "Eventualy, this list will be applied to the stacking of the Swift-DeepSky pipeline, \n",
    "where some overlap is actually required, to optimize the signal-to-noise ratio.\n",
    "But for now we want to \"a list of coordinates (x,y) to cover a rectangular region \n",
    "with circles of radius (r)\".\n",
    "\n",
    "If we want to cover a region observed by Swift/XRT, which FoV is 12 arcmin, we could\n",
    "think in a 6 arcmin step-size pointings, as a first try; it is a huge amount of \n",
    "overlapping area, but it would do the work. (Remember the coordinates (RA,Dec)\n",
    "continuity at the limit 360/0 (degrees).)\n",
    "\n",
    "Another way of doing it is by using Healpix. Healpix defines a grid of \"diamond\"\n",
    "(quasi-circular) regions covering the sky in different scales (or resolution).\n",
    "We can apply its format to the definition of the pointings in a resolution\n",
    "(for Swift/XRT) < 12 arcmin."
   ]
  },
  {
   "cell_type": "code",
   "execution_count": null,
   "metadata": {},
   "outputs": [],
   "source": []
  }
 ],
 "metadata": {
  "kernelspec": {
   "display_name": "Python 3",
   "language": "python",
   "name": "python3"
  },
  "language_info": {
   "codemirror_mode": {
    "name": "ipython",
    "version": 3
   },
   "file_extension": ".py",
   "mimetype": "text/x-python",
   "name": "python",
   "nbconvert_exporter": "python",
   "pygments_lexer": "ipython3",
   "version": "3.5.4"
  }
 },
 "nbformat": 4,
 "nbformat_minor": 2
}
